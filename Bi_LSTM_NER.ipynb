{
  "nbformat": 4,
  "nbformat_minor": 0,
  "metadata": {
    "colab": {
      "name": "Bi-LSTM NER.ipynb",
      "provenance": [],
      "collapsed_sections": [],
      "toc_visible": true,
      "mount_file_id": "1jSKNKhE2r26i5CWFvVzKnNrChufVph9N",
      "authorship_tag": "ABX9TyPh856m5oR3cucDkl5xAOXl",
      "include_colab_link": true
    },
    "kernelspec": {
      "name": "python3",
      "display_name": "Python 3"
    }
  },
  "cells": [
    {
      "cell_type": "markdown",
      "metadata": {
        "id": "view-in-github",
        "colab_type": "text"
      },
      "source": [
        "<a href=\"https://colab.research.google.com/github/Srivishnu27feb/NER-Bi-LSTM/blob/master/Bi_LSTM_NER.ipynb\" target=\"_parent\"><img src=\"https://colab.research.google.com/assets/colab-badge.svg\" alt=\"Open In Colab\"/></a>"
      ]
    },
    {
      "cell_type": "code",
      "metadata": {
        "id": "jMFLavgauEY0",
        "colab_type": "code",
        "colab": {
          "base_uri": "https://localhost:8080/",
          "height": 35
        },
        "outputId": "155bf139-1857-4795-cad8-a691cb30939a"
      },
      "source": [
        "import pandas as pd\n",
        "from sklearn.model_selection import train_test_split\n",
        "from keras.preprocessing.sequence import pad_sequences\n",
        "from keras.utils import to_categorical\n",
        "import numpy as np\n",
        "import tensorflow\n",
        "from tensorflow.keras import Sequential, Model, Input\n",
        "from tensorflow.keras.layers import LSTM, Embedding, Dense, TimeDistributed, Dropout, Bidirectional\n",
        "from tensorflow.keras.utils import plot_model"
      ],
      "execution_count": 2,
      "outputs": [
        {
          "output_type": "stream",
          "text": [
            "Using TensorFlow backend.\n"
          ],
          "name": "stderr"
        }
      ]
    },
    {
      "cell_type": "markdown",
      "metadata": {
        "id": "N1TgNgkvW4F0",
        "colab_type": "text"
      },
      "source": [
        "NER Data is downloaded from kaggle site (https://www.kaggle.com/abhinavwalia95/entity-annotated-corpus?select=ner_dataset.csv)"
      ]
    },
    {
      "cell_type": "code",
      "metadata": {
        "id": "loyZOCWxuXHP",
        "colab_type": "code",
        "colab": {
          "base_uri": "https://localhost:8080/",
          "height": 202
        },
        "outputId": "ae1bff6b-7ccd-4a00-ab74-3b386a4214e3"
      },
      "source": [
        "path = \"/content/drive/My Drive/Entity_Extraction_NER/ner_dataset.csv\"\n",
        "NER_data = pd.read_csv(path,encoding = 'unicode_escape')\n",
        "NER_data.head()"
      ],
      "execution_count": 3,
      "outputs": [
        {
          "output_type": "execute_result",
          "data": {
            "text/html": [
              "<div>\n",
              "<style scoped>\n",
              "    .dataframe tbody tr th:only-of-type {\n",
              "        vertical-align: middle;\n",
              "    }\n",
              "\n",
              "    .dataframe tbody tr th {\n",
              "        vertical-align: top;\n",
              "    }\n",
              "\n",
              "    .dataframe thead th {\n",
              "        text-align: right;\n",
              "    }\n",
              "</style>\n",
              "<table border=\"1\" class=\"dataframe\">\n",
              "  <thead>\n",
              "    <tr style=\"text-align: right;\">\n",
              "      <th></th>\n",
              "      <th>Sentence #</th>\n",
              "      <th>Word</th>\n",
              "      <th>POS</th>\n",
              "      <th>Tag</th>\n",
              "    </tr>\n",
              "  </thead>\n",
              "  <tbody>\n",
              "    <tr>\n",
              "      <th>0</th>\n",
              "      <td>Sentence: 1</td>\n",
              "      <td>Thousands</td>\n",
              "      <td>NNS</td>\n",
              "      <td>O</td>\n",
              "    </tr>\n",
              "    <tr>\n",
              "      <th>1</th>\n",
              "      <td>NaN</td>\n",
              "      <td>of</td>\n",
              "      <td>IN</td>\n",
              "      <td>O</td>\n",
              "    </tr>\n",
              "    <tr>\n",
              "      <th>2</th>\n",
              "      <td>NaN</td>\n",
              "      <td>demonstrators</td>\n",
              "      <td>NNS</td>\n",
              "      <td>O</td>\n",
              "    </tr>\n",
              "    <tr>\n",
              "      <th>3</th>\n",
              "      <td>NaN</td>\n",
              "      <td>have</td>\n",
              "      <td>VBP</td>\n",
              "      <td>O</td>\n",
              "    </tr>\n",
              "    <tr>\n",
              "      <th>4</th>\n",
              "      <td>NaN</td>\n",
              "      <td>marched</td>\n",
              "      <td>VBN</td>\n",
              "      <td>O</td>\n",
              "    </tr>\n",
              "  </tbody>\n",
              "</table>\n",
              "</div>"
            ],
            "text/plain": [
              "    Sentence #           Word  POS Tag\n",
              "0  Sentence: 1      Thousands  NNS   O\n",
              "1          NaN             of   IN   O\n",
              "2          NaN  demonstrators  NNS   O\n",
              "3          NaN           have  VBP   O\n",
              "4          NaN        marched  VBN   O"
            ]
          },
          "metadata": {
            "tags": []
          },
          "execution_count": 3
        }
      ]
    },
    {
      "cell_type": "markdown",
      "metadata": {
        "id": "gYIJjU9yKJMa",
        "colab_type": "text"
      },
      "source": [
        "Creating Vocab list using Dictionary for tokens as well as tags"
      ]
    },
    {
      "cell_type": "code",
      "metadata": {
        "id": "vAwjPWlmuhzG",
        "colab_type": "code",
        "colab": {}
      },
      "source": [
        "from itertools import chain\n",
        "\n",
        "def get_dict_map(data, token_or_tag):\n",
        "    tok2idx = {}\n",
        "    idx2tok = {}\n",
        "    \n",
        "    if token_or_tag == 'token':\n",
        "        vocab = list(set(data['Word'].to_list()))\n",
        "    else:\n",
        "        vocab = list(set(data['Tag'].to_list()))\n",
        "    \n",
        "    idx2tok = {idx:tok for  idx, tok in enumerate(vocab)}\n",
        "    tok2idx = {tok:idx for  idx, tok in enumerate(vocab)}\n",
        "    return tok2idx, idx2tok\n",
        "\n",
        "\n",
        "token2idx, idx2token = get_dict_map(NER_data, 'token')\n",
        "tag2idx, idx2tag = get_dict_map(NER_data, 'tag')"
      ],
      "execution_count": 4,
      "outputs": []
    },
    {
      "cell_type": "code",
      "metadata": {
        "id": "Zpo3ZUj9W5Oz",
        "colab_type": "code",
        "colab": {
          "base_uri": "https://localhost:8080/",
          "height": 202
        },
        "outputId": "aaa9b791-65f5-4088-cb7b-63bc243a2763"
      },
      "source": [
        "NER_data['Word_idx'] = NER_data['Word'].map(token2idx)\n",
        "NER_data['Tag_idx'] = NER_data['Tag'].map(tag2idx)\n",
        "NER_data.head()"
      ],
      "execution_count": 5,
      "outputs": [
        {
          "output_type": "execute_result",
          "data": {
            "text/html": [
              "<div>\n",
              "<style scoped>\n",
              "    .dataframe tbody tr th:only-of-type {\n",
              "        vertical-align: middle;\n",
              "    }\n",
              "\n",
              "    .dataframe tbody tr th {\n",
              "        vertical-align: top;\n",
              "    }\n",
              "\n",
              "    .dataframe thead th {\n",
              "        text-align: right;\n",
              "    }\n",
              "</style>\n",
              "<table border=\"1\" class=\"dataframe\">\n",
              "  <thead>\n",
              "    <tr style=\"text-align: right;\">\n",
              "      <th></th>\n",
              "      <th>Sentence #</th>\n",
              "      <th>Word</th>\n",
              "      <th>POS</th>\n",
              "      <th>Tag</th>\n",
              "      <th>Word_idx</th>\n",
              "      <th>Tag_idx</th>\n",
              "    </tr>\n",
              "  </thead>\n",
              "  <tbody>\n",
              "    <tr>\n",
              "      <th>0</th>\n",
              "      <td>Sentence: 1</td>\n",
              "      <td>Thousands</td>\n",
              "      <td>NNS</td>\n",
              "      <td>O</td>\n",
              "      <td>314</td>\n",
              "      <td>3</td>\n",
              "    </tr>\n",
              "    <tr>\n",
              "      <th>1</th>\n",
              "      <td>NaN</td>\n",
              "      <td>of</td>\n",
              "      <td>IN</td>\n",
              "      <td>O</td>\n",
              "      <td>1744</td>\n",
              "      <td>3</td>\n",
              "    </tr>\n",
              "    <tr>\n",
              "      <th>2</th>\n",
              "      <td>NaN</td>\n",
              "      <td>demonstrators</td>\n",
              "      <td>NNS</td>\n",
              "      <td>O</td>\n",
              "      <td>13090</td>\n",
              "      <td>3</td>\n",
              "    </tr>\n",
              "    <tr>\n",
              "      <th>3</th>\n",
              "      <td>NaN</td>\n",
              "      <td>have</td>\n",
              "      <td>VBP</td>\n",
              "      <td>O</td>\n",
              "      <td>580</td>\n",
              "      <td>3</td>\n",
              "    </tr>\n",
              "    <tr>\n",
              "      <th>4</th>\n",
              "      <td>NaN</td>\n",
              "      <td>marched</td>\n",
              "      <td>VBN</td>\n",
              "      <td>O</td>\n",
              "      <td>33030</td>\n",
              "      <td>3</td>\n",
              "    </tr>\n",
              "  </tbody>\n",
              "</table>\n",
              "</div>"
            ],
            "text/plain": [
              "    Sentence #           Word  POS Tag  Word_idx  Tag_idx\n",
              "0  Sentence: 1      Thousands  NNS   O       314        3\n",
              "1          NaN             of   IN   O      1744        3\n",
              "2          NaN  demonstrators  NNS   O     13090        3\n",
              "3          NaN           have  VBP   O       580        3\n",
              "4          NaN        marched  VBN   O     33030        3"
            ]
          },
          "metadata": {
            "tags": []
          },
          "execution_count": 5
        }
      ]
    },
    {
      "cell_type": "code",
      "metadata": {
        "id": "aPWHKyzPXAtW",
        "colab_type": "code",
        "colab": {
          "base_uri": "https://localhost:8080/",
          "height": 139
        },
        "outputId": "4aa7a5ff-d147-4947-fd53-ca27b9ff38f0"
      },
      "source": [
        "NER_data.isna().any()"
      ],
      "execution_count": 6,
      "outputs": [
        {
          "output_type": "execute_result",
          "data": {
            "text/plain": [
              "Sentence #     True\n",
              "Word          False\n",
              "POS           False\n",
              "Tag           False\n",
              "Word_idx      False\n",
              "Tag_idx       False\n",
              "dtype: bool"
            ]
          },
          "metadata": {
            "tags": []
          },
          "execution_count": 6
        }
      ]
    },
    {
      "cell_type": "code",
      "metadata": {
        "id": "SU95aS2pXX02",
        "colab_type": "code",
        "colab": {}
      },
      "source": [
        "NER_data_fillna = NER_data.fillna(method='ffill', axis=0) ## Filling the NA data with the lagged present data"
      ],
      "execution_count": 7,
      "outputs": []
    },
    {
      "cell_type": "code",
      "metadata": {
        "id": "i9-cdVCSXepH",
        "colab_type": "code",
        "colab": {
          "base_uri": "https://localhost:8080/",
          "height": 202
        },
        "outputId": "ab264ab8-3623-451b-9cdd-9a10ba8e17c9"
      },
      "source": [
        "NER_data_fillna.head()"
      ],
      "execution_count": 8,
      "outputs": [
        {
          "output_type": "execute_result",
          "data": {
            "text/html": [
              "<div>\n",
              "<style scoped>\n",
              "    .dataframe tbody tr th:only-of-type {\n",
              "        vertical-align: middle;\n",
              "    }\n",
              "\n",
              "    .dataframe tbody tr th {\n",
              "        vertical-align: top;\n",
              "    }\n",
              "\n",
              "    .dataframe thead th {\n",
              "        text-align: right;\n",
              "    }\n",
              "</style>\n",
              "<table border=\"1\" class=\"dataframe\">\n",
              "  <thead>\n",
              "    <tr style=\"text-align: right;\">\n",
              "      <th></th>\n",
              "      <th>Sentence #</th>\n",
              "      <th>Word</th>\n",
              "      <th>POS</th>\n",
              "      <th>Tag</th>\n",
              "      <th>Word_idx</th>\n",
              "      <th>Tag_idx</th>\n",
              "    </tr>\n",
              "  </thead>\n",
              "  <tbody>\n",
              "    <tr>\n",
              "      <th>0</th>\n",
              "      <td>Sentence: 1</td>\n",
              "      <td>Thousands</td>\n",
              "      <td>NNS</td>\n",
              "      <td>O</td>\n",
              "      <td>314</td>\n",
              "      <td>3</td>\n",
              "    </tr>\n",
              "    <tr>\n",
              "      <th>1</th>\n",
              "      <td>Sentence: 1</td>\n",
              "      <td>of</td>\n",
              "      <td>IN</td>\n",
              "      <td>O</td>\n",
              "      <td>1744</td>\n",
              "      <td>3</td>\n",
              "    </tr>\n",
              "    <tr>\n",
              "      <th>2</th>\n",
              "      <td>Sentence: 1</td>\n",
              "      <td>demonstrators</td>\n",
              "      <td>NNS</td>\n",
              "      <td>O</td>\n",
              "      <td>13090</td>\n",
              "      <td>3</td>\n",
              "    </tr>\n",
              "    <tr>\n",
              "      <th>3</th>\n",
              "      <td>Sentence: 1</td>\n",
              "      <td>have</td>\n",
              "      <td>VBP</td>\n",
              "      <td>O</td>\n",
              "      <td>580</td>\n",
              "      <td>3</td>\n",
              "    </tr>\n",
              "    <tr>\n",
              "      <th>4</th>\n",
              "      <td>Sentence: 1</td>\n",
              "      <td>marched</td>\n",
              "      <td>VBN</td>\n",
              "      <td>O</td>\n",
              "      <td>33030</td>\n",
              "      <td>3</td>\n",
              "    </tr>\n",
              "  </tbody>\n",
              "</table>\n",
              "</div>"
            ],
            "text/plain": [
              "    Sentence #           Word  POS Tag  Word_idx  Tag_idx\n",
              "0  Sentence: 1      Thousands  NNS   O       314        3\n",
              "1  Sentence: 1             of   IN   O      1744        3\n",
              "2  Sentence: 1  demonstrators  NNS   O     13090        3\n",
              "3  Sentence: 1           have  VBP   O       580        3\n",
              "4  Sentence: 1        marched  VBN   O     33030        3"
            ]
          },
          "metadata": {
            "tags": []
          },
          "execution_count": 8
        }
      ]
    },
    {
      "cell_type": "code",
      "metadata": {
        "id": "WeC8sh9eXfkR",
        "colab_type": "code",
        "colab": {
          "base_uri": "https://localhost:8080/",
          "height": 447
        },
        "outputId": "51f847af-ac47-42fd-c3ce-bc93e82ad35c"
      },
      "source": [
        "#Aggregate the list by each sentence\n",
        "data_group = NER_data_fillna.groupby(['Sentence #'],as_index=False\n",
        "                                )['Word', 'POS', 'Tag', 'Word_idx', 'Tag_idx'].agg(lambda x: list(x))\n",
        "\n",
        "data_group.head()"
      ],
      "execution_count": 9,
      "outputs": [
        {
          "output_type": "stream",
          "text": [
            "/usr/local/lib/python3.6/dist-packages/ipykernel_launcher.py:3: FutureWarning: Indexing with multiple keys (implicitly converted to a tuple of keys) will be deprecated, use a list instead.\n",
            "  This is separate from the ipykernel package so we can avoid doing imports until\n"
          ],
          "name": "stderr"
        },
        {
          "output_type": "execute_result",
          "data": {
            "text/html": [
              "<div>\n",
              "<style scoped>\n",
              "    .dataframe tbody tr th:only-of-type {\n",
              "        vertical-align: middle;\n",
              "    }\n",
              "\n",
              "    .dataframe tbody tr th {\n",
              "        vertical-align: top;\n",
              "    }\n",
              "\n",
              "    .dataframe thead th {\n",
              "        text-align: right;\n",
              "    }\n",
              "</style>\n",
              "<table border=\"1\" class=\"dataframe\">\n",
              "  <thead>\n",
              "    <tr style=\"text-align: right;\">\n",
              "      <th></th>\n",
              "      <th>Sentence #</th>\n",
              "      <th>Word</th>\n",
              "      <th>POS</th>\n",
              "      <th>Tag</th>\n",
              "      <th>Word_idx</th>\n",
              "      <th>Tag_idx</th>\n",
              "    </tr>\n",
              "  </thead>\n",
              "  <tbody>\n",
              "    <tr>\n",
              "      <th>0</th>\n",
              "      <td>Sentence: 1</td>\n",
              "      <td>[Thousands, of, demonstrators, have, marched, ...</td>\n",
              "      <td>[NNS, IN, NNS, VBP, VBN, IN, NNP, TO, VB, DT, ...</td>\n",
              "      <td>[O, O, O, O, O, O, B-geo, O, O, O, O, O, B-geo...</td>\n",
              "      <td>[314, 1744, 13090, 580, 33030, 21120, 4034, 28...</td>\n",
              "      <td>[3, 3, 3, 3, 3, 3, 4, 3, 3, 3, 3, 3, 4, 3, 3, ...</td>\n",
              "    </tr>\n",
              "    <tr>\n",
              "      <th>1</th>\n",
              "      <td>Sentence: 10</td>\n",
              "      <td>[Iranian, officials, say, they, expect, to, ge...</td>\n",
              "      <td>[JJ, NNS, VBP, PRP, VBP, TO, VB, NN, TO, JJ, J...</td>\n",
              "      <td>[B-gpe, O, O, O, O, O, O, O, O, O, O, O, O, O,...</td>\n",
              "      <td>[30236, 777, 22267, 15525, 33339, 28644, 20488...</td>\n",
              "      <td>[12, 3, 3, 3, 3, 3, 3, 3, 3, 3, 3, 3, 3, 3, 3,...</td>\n",
              "    </tr>\n",
              "    <tr>\n",
              "      <th>2</th>\n",
              "      <td>Sentence: 100</td>\n",
              "      <td>[Helicopter, gunships, Saturday, pounded, mili...</td>\n",
              "      <td>[NN, NNS, NNP, VBD, JJ, NNS, IN, DT, NNP, JJ, ...</td>\n",
              "      <td>[O, O, B-tim, O, O, O, O, O, B-geo, O, O, O, O...</td>\n",
              "      <td>[24802, 10499, 14870, 33665, 5279, 27859, 5230...</td>\n",
              "      <td>[3, 3, 0, 3, 3, 3, 3, 3, 4, 3, 3, 3, 3, 3, 16,...</td>\n",
              "    </tr>\n",
              "    <tr>\n",
              "      <th>3</th>\n",
              "      <td>Sentence: 1000</td>\n",
              "      <td>[They, left, after, a, tense, hour-long, stand...</td>\n",
              "      <td>[PRP, VBD, IN, DT, NN, JJ, NN, IN, NN, NNS, .]</td>\n",
              "      <td>[O, O, O, O, O, O, O, O, O, O, O]</td>\n",
              "      <td>[1947, 5475, 15897, 26510, 12798, 22960, 19456...</td>\n",
              "      <td>[3, 3, 3, 3, 3, 3, 3, 3, 3, 3, 3]</td>\n",
              "    </tr>\n",
              "    <tr>\n",
              "      <th>4</th>\n",
              "      <td>Sentence: 10000</td>\n",
              "      <td>[U.N., relief, coordinator, Jan, Egeland, said...</td>\n",
              "      <td>[NNP, NN, NN, NNP, NNP, VBD, NNP, ,, NNP, ,, J...</td>\n",
              "      <td>[B-geo, O, O, B-per, I-per, O, B-tim, O, B-geo...</td>\n",
              "      <td>[32195, 7695, 32245, 15929, 4916, 26998, 18880...</td>\n",
              "      <td>[4, 3, 3, 6, 11, 3, 0, 3, 4, 3, 12, 3, 12, 3, ...</td>\n",
              "    </tr>\n",
              "  </tbody>\n",
              "</table>\n",
              "</div>"
            ],
            "text/plain": [
              "        Sentence #  ...                                            Tag_idx\n",
              "0      Sentence: 1  ...  [3, 3, 3, 3, 3, 3, 4, 3, 3, 3, 3, 3, 4, 3, 3, ...\n",
              "1     Sentence: 10  ...  [12, 3, 3, 3, 3, 3, 3, 3, 3, 3, 3, 3, 3, 3, 3,...\n",
              "2    Sentence: 100  ...  [3, 3, 0, 3, 3, 3, 3, 3, 4, 3, 3, 3, 3, 3, 16,...\n",
              "3   Sentence: 1000  ...                  [3, 3, 3, 3, 3, 3, 3, 3, 3, 3, 3]\n",
              "4  Sentence: 10000  ...  [4, 3, 3, 6, 11, 3, 0, 3, 4, 3, 12, 3, 12, 3, ...\n",
              "\n",
              "[5 rows x 6 columns]"
            ]
          },
          "metadata": {
            "tags": []
          },
          "execution_count": 9
        }
      ]
    },
    {
      "cell_type": "code",
      "metadata": {
        "id": "aV--WdFsYgAZ",
        "colab_type": "code",
        "colab": {}
      },
      "source": [
        "def data_pad_seq(data_group,NER_data_fillna):\n",
        "  #Get No of tokens\n",
        "  #Get No of Tags\n",
        "  #Get the max length of the sentence in the entire corpus for make sure all the sentence length is of equal length [by padding]\n",
        "  n_token = len(list(set(NER_data['Word'].to_list())))\n",
        "  n_tag = len(list(set(NER_data['Tag'].to_list())))\n",
        "  maxlen = max([len(tokens) for tokens in data_group['Word_idx'].tolist()])\n",
        "\n",
        "\n",
        "  tokens_pad = pad_sequences(data_group['Word_idx'].tolist(), maxlen=maxlen, dtype='int32', padding='post', value= n_token - 1)\n",
        "  tag_pad = pad_sequences(data_group['Tag_idx'].tolist(), maxlen=maxlen, dtype='int32', padding='post', value= tag2idx[\"O\"])\n",
        "  n_tags = len(tag2idx)\n",
        "  #tag_pad = [to_categorical(i, num_classes=n_tags) for i in tag_pad]\n",
        "  return (tokens_pad, tag_pad,maxlen)\n",
        "\n",
        "tokens_pad, tag_pad,maxlen = data_pad_seq(data_group,NER_data_fillna)"
      ],
      "execution_count": 61,
      "outputs": []
    },
    {
      "cell_type": "code",
      "metadata": {
        "id": "ZrnhxKJHqu5t",
        "colab_type": "code",
        "colab": {
          "base_uri": "https://localhost:8080/",
          "height": 139
        },
        "outputId": "59300ef9-abee-44b7-c7fb-e00e194c64be"
      },
      "source": [
        "tag_pad = pad_sequences(data_group['Tag_idx'].tolist(), maxlen=maxlen, dtype='int32', padding='post', value= tag2idx[\"O\"])\n",
        "tag_pad[0]"
      ],
      "execution_count": 60,
      "outputs": [
        {
          "output_type": "execute_result",
          "data": {
            "text/plain": [
              "array([ 3,  3,  3,  3,  3,  3,  4,  3,  3,  3,  3,  3,  4,  3,  3,  3,  3,\n",
              "        3, 12,  3,  3,  3,  3,  3,  3,  3,  3,  3,  3,  3,  3,  3,  3,  3,\n",
              "        3,  3,  3,  3,  3,  3,  3,  3,  3,  3,  3,  3,  3,  3,  3,  3,  3,\n",
              "        3,  3,  3,  3,  3,  3,  3,  3,  3,  3,  3,  3,  3,  3,  3,  3,  3,\n",
              "        3,  3,  3,  3,  3,  3,  3,  3,  3,  3,  3,  3,  3,  3,  3,  3,  3,\n",
              "        3,  3,  3,  3,  3,  3,  3,  3,  3,  3,  3,  3,  3,  3,  3,  3,  3,\n",
              "        3,  3], dtype=int32)"
            ]
          },
          "metadata": {
            "tags": []
          },
          "execution_count": 60
        }
      ]
    },
    {
      "cell_type": "code",
      "metadata": {
        "id": "YfbBnjML6mRN",
        "colab_type": "code",
        "colab": {}
      },
      "source": [
        "# Test train split by 80/20 ratio\n",
        "#train_tokens, test_tokens, train_tags, test_tags = train_test_split(tokens_pad, tag_pad, test_size=0.1, train_size=0.9, shuffle=False)\n",
        "train_tokens, test_tokens, train_tags, test_tags = train_test_split(tokens_pad, tag_pad, test_size=0.1, shuffle=False)"
      ],
      "execution_count": 62,
      "outputs": []
    },
    {
      "cell_type": "code",
      "metadata": {
        "id": "aqfGY52c62uQ",
        "colab_type": "code",
        "colab": {
          "base_uri": "https://localhost:8080/",
          "height": 139
        },
        "outputId": "de296ad1-219e-446a-cf88-65fbb0e273c9"
      },
      "source": [
        "#Cross check the length of each sentence and it should have equal (104) length\n",
        "train_tags[0]"
      ],
      "execution_count": 64,
      "outputs": [
        {
          "output_type": "execute_result",
          "data": {
            "text/plain": [
              "array([ 3,  3,  3,  3,  3,  3,  4,  3,  3,  3,  3,  3,  4,  3,  3,  3,  3,\n",
              "        3, 12,  3,  3,  3,  3,  3,  3,  3,  3,  3,  3,  3,  3,  3,  3,  3,\n",
              "        3,  3,  3,  3,  3,  3,  3,  3,  3,  3,  3,  3,  3,  3,  3,  3,  3,\n",
              "        3,  3,  3,  3,  3,  3,  3,  3,  3,  3,  3,  3,  3,  3,  3,  3,  3,\n",
              "        3,  3,  3,  3,  3,  3,  3,  3,  3,  3,  3,  3,  3,  3,  3,  3,  3,\n",
              "        3,  3,  3,  3,  3,  3,  3,  3,  3,  3,  3,  3,  3,  3,  3,  3,  3,\n",
              "        3,  3], dtype=int32)"
            ]
          },
          "metadata": {
            "tags": []
          },
          "execution_count": 64
        }
      ]
    },
    {
      "cell_type": "code",
      "metadata": {
        "id": "nt8s8FVd69Q7",
        "colab_type": "code",
        "colab": {}
      },
      "source": [
        "from numpy.random import seed\n",
        "seed(1)\n",
        "tensorflow.random.set_seed(2)"
      ],
      "execution_count": 65,
      "outputs": []
    },
    {
      "cell_type": "code",
      "metadata": {
        "id": "k1QdkaGa7WiH",
        "colab_type": "code",
        "colab": {
          "base_uri": "https://localhost:8080/",
          "height": 87
        },
        "outputId": "50266d19-f0fc-4d6c-b228-4442f643b580"
      },
      "source": [
        "Vocab = len(list(set(NER_data['Word'].to_list())))\n",
        "output_dim = 32\n",
        "n_tags = len(tag2idx)\n",
        "print('input_dim: ', Vocab, '\\noutput_dim: ', output_dim, '\\ninput_length: ', maxlen, '\\nn_tags: ', n_tags)"
      ],
      "execution_count": 66,
      "outputs": [
        {
          "output_type": "stream",
          "text": [
            "input_dim:  35178 \n",
            "output_dim:  32 \n",
            "input_length:  104 \n",
            "n_tags:  17\n"
          ],
          "name": "stdout"
        }
      ]
    },
    {
      "cell_type": "code",
      "metadata": {
        "id": "FCO6trDBkSa1",
        "colab_type": "code",
        "colab": {
          "base_uri": "https://localhost:8080/",
          "height": 263
        },
        "outputId": "955fe010-966f-417d-8244-9b087d9a1dca"
      },
      "source": [
        "from keras.models import Model, Input\n",
        "from keras.layers import LSTM, Embedding, Dense, TimeDistributed, SpatialDropout1D, Bidirectional\n",
        "word_input = Input(shape=(maxlen,))\n",
        "model = Embedding(input_dim=Vocab, output_dim=50, input_length=maxlen)(word_input)\n",
        "model = SpatialDropout1D(0.1)(model)\n",
        "model = Bidirectional(LSTM(units=100, return_sequences=True, recurrent_dropout=0.1))(model)\n",
        "out = TimeDistributed(Dense(n_tags, activation=\"softmax\"))(model)\n",
        "model = Model(word_input, out)\n",
        "model.compile(optimizer=\"rmsprop\",\n",
        "              loss=\"sparse_categorical_crossentropy\",\n",
        "              metrics=[\"accuracy\"])\n",
        "history = model.fit(train_tokens, train_tags.reshape(*train_tags.shape, 1),\n",
        "                    batch_size=32, epochs=5,\n",
        "                    validation_split=0.1, verbose=1)"
      ],
      "execution_count": 68,
      "outputs": [
        {
          "output_type": "stream",
          "text": [
            "/usr/local/lib/python3.6/dist-packages/tensorflow/python/framework/indexed_slices.py:434: UserWarning: Converting sparse IndexedSlices to a dense Tensor of unknown shape. This may consume a large amount of memory.\n",
            "  \"Converting sparse IndexedSlices to a dense Tensor of unknown shape. \"\n"
          ],
          "name": "stderr"
        },
        {
          "output_type": "stream",
          "text": [
            "Train on 38846 samples, validate on 4317 samples\n",
            "Epoch 1/5\n",
            "38846/38846 [==============================] - 249s 6ms/step - loss: 0.0716 - accuracy: 0.9825 - val_loss: 0.0317 - val_accuracy: 0.9910\n",
            "Epoch 2/5\n",
            "38846/38846 [==============================] - 248s 6ms/step - loss: 0.0265 - accuracy: 0.9923 - val_loss: 0.0263 - val_accuracy: 0.9924\n",
            "Epoch 3/5\n",
            "38846/38846 [==============================] - 246s 6ms/step - loss: 0.0221 - accuracy: 0.9936 - val_loss: 0.0249 - val_accuracy: 0.9926\n",
            "Epoch 4/5\n",
            "38846/38846 [==============================] - 246s 6ms/step - loss: 0.0199 - accuracy: 0.9941 - val_loss: 0.0232 - val_accuracy: 0.9931\n",
            "Epoch 5/5\n",
            "38846/38846 [==============================] - 243s 6ms/step - loss: 0.0184 - accuracy: 0.9945 - val_loss: 0.0233 - val_accuracy: 0.9930\n"
          ],
          "name": "stdout"
        }
      ]
    },
    {
      "cell_type": "code",
      "metadata": {
        "id": "5n6K6L5Bmil1",
        "colab_type": "code",
        "colab": {
          "base_uri": "https://localhost:8080/",
          "height": 139
        },
        "outputId": "38b7ad61-b203-452b-8e9c-74ba2b73e8d6"
      },
      "source": [
        "train_tags[0]"
      ],
      "execution_count": 44,
      "outputs": [
        {
          "output_type": "execute_result",
          "data": {
            "text/plain": [
              "array([[0., 0., 0., ..., 0., 0., 0.],\n",
              "       [0., 0., 0., ..., 0., 0., 0.],\n",
              "       [0., 0., 0., ..., 0., 0., 0.],\n",
              "       ...,\n",
              "       [0., 0., 0., ..., 0., 0., 0.],\n",
              "       [0., 0., 0., ..., 0., 0., 0.],\n",
              "       [0., 0., 0., ..., 0., 0., 0.]], dtype=float32)"
            ]
          },
          "metadata": {
            "tags": []
          },
          "execution_count": 44
        }
      ]
    },
    {
      "cell_type": "code",
      "metadata": {
        "id": "3Hgy16ls98ZN",
        "colab_type": "code",
        "colab": {
          "base_uri": "https://localhost:8080/",
          "height": 466
        },
        "outputId": "faf1b2d8-c04d-40c7-c8f8-a3a0ee214a67"
      },
      "source": [
        "plot_model(model)"
      ],
      "execution_count": 79,
      "outputs": [
        {
          "output_type": "execute_result",
          "data": {
            "image/png": "[encoded data removed]",
            "text/plain": [
              "<IPython.core.display.Image object>"
            ]
          },
          "metadata": {
            "tags": []
          },
          "execution_count": 79
        }
      ]
    },
    {
      "cell_type": "code",
      "metadata": {
        "id": "0vhuOOJhXLCQ",
        "colab_type": "code",
        "colab": {
          "base_uri": "https://localhost:8080/",
          "height": 225
        },
        "outputId": "641460d4-0827-41ed-e001-0c8f9820e1a0"
      },
      "source": [
        "i = np.random.randint(0,test_tokens.shape[0])\n",
        "test_tokens[i]"
      ],
      "execution_count": 80,
      "outputs": [
        {
          "output_type": "execute_result",
          "data": {
            "text/plain": [
              "array([14507, 34024, 11778, 15287, 15236, 13932, 20003, 33387, 16461,\n",
              "        7268, 20003, 12928, 34679,   672,  6882, 30088, 33453,   580,\n",
              "       12888, 33032,  8542,   877, 29435, 11400,  2953, 35177, 35177,\n",
              "       35177, 35177, 35177, 35177, 35177, 35177, 35177, 35177, 35177,\n",
              "       35177, 35177, 35177, 35177, 35177, 35177, 35177, 35177, 35177,\n",
              "       35177, 35177, 35177, 35177, 35177, 35177, 35177, 35177, 35177,\n",
              "       35177, 35177, 35177, 35177, 35177, 35177, 35177, 35177, 35177,\n",
              "       35177, 35177, 35177, 35177, 35177, 35177, 35177, 35177, 35177,\n",
              "       35177, 35177, 35177, 35177, 35177, 35177, 35177, 35177, 35177,\n",
              "       35177, 35177, 35177, 35177, 35177, 35177, 35177, 35177, 35177,\n",
              "       35177, 35177, 35177, 35177, 35177, 35177, 35177, 35177, 35177,\n",
              "       35177, 35177, 35177, 35177, 35177], dtype=int32)"
            ]
          },
          "metadata": {
            "tags": []
          },
          "execution_count": 80
        }
      ]
    },
    {
      "cell_type": "code",
      "metadata": {
        "id": "6CuulLyUYx74",
        "colab_type": "code",
        "colab": {}
      },
      "source": [
        "p = model.predict(np.array([test_tokens[i]]))"
      ],
      "execution_count": 81,
      "outputs": []
    },
    {
      "cell_type": "code",
      "metadata": {
        "id": "LsokhidCY-mO",
        "colab_type": "code",
        "colab": {
          "base_uri": "https://localhost:8080/",
          "height": 503
        },
        "outputId": "f2b16a66-96ac-4baf-c861-e8eca864ac6c"
      },
      "source": [
        "p = np.argmax(p, axis=-1)\n",
        "true = test_tags[i]\n",
        "\n",
        "print(\"Sample number {} of {} (Test Set)\".format(i, test_tokens.shape[0]))\n",
        "# Visualization\n",
        "print(\"{:15}||{:5}||{}\".format(\"Word\", \"True\", \"Pred\"))\n",
        "print(30 * \"=\")\n",
        "for w, t, pred in zip(test_tokens[i], true, p[0]):\n",
        "    if w != 35177:\n",
        "        print(\"{:15}: {:5} {}\".format(idx2token[w], idx2tag[t], idx2tag[pred]))"
      ],
      "execution_count": 82,
      "outputs": [
        {
          "output_type": "stream",
          "text": [
            "Sample number 60 of 4796 (Test Set)\n",
            "Word           ||True ||Pred\n",
            "==============================\n",
            "Former         : O     O\n",
            "CPA            : B-org O\n",
            "chief          : O     O\n",
            "Paul           : B-per B-per\n",
            "Bremer         : I-per I-per\n",
            "rejected       : O     O\n",
            "the            : O     O\n",
            "findings       : O     O\n",
            ",              : O     O\n",
            "saying         : O     O\n",
            "the            : O     O\n",
            "report         : O     O\n",
            "assumes        : O     O\n",
            "western-style  : O     O\n",
            "accounting     : O     O\n",
            "procedures     : O     O\n",
            "could          : O     O\n",
            "have           : O     O\n",
            "been           : O     O\n",
            "quickly        : O     O\n",
            "set            : O     O\n",
            "up             : O     O\n",
            "during         : O     O\n",
            "wartime        : O     O\n",
            ".              : O     O\n"
          ],
          "name": "stdout"
        }
      ]
    }
  ]
}